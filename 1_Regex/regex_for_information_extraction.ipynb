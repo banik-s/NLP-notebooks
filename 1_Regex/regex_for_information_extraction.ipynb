{
 "cells": [
  {
   "cell_type": "markdown",
   "id": "53f450c9-60b9-42f6-bc10-a201f7037c1e",
   "metadata": {},
   "source": [
    "### Retrieve order number"
   ]
  },
  {
   "cell_type": "markdown",
   "id": "e7e1c99e-805b-4f76-81c3-435b070a7636",
   "metadata": {},
   "source": [
    "regex expression tutorial : https://www.w3schools.com/python/python_regex.asp"
   ]
  },
  {
   "cell_type": "code",
   "execution_count": 7,
   "id": "f58d2ab2-4871-4e72-a562-0429eabac7cd",
   "metadata": {},
   "outputs": [
    {
     "data": {
      "text/plain": [
       "['412889912']"
      ]
     },
     "execution_count": 7,
     "metadata": {},
     "output_type": "execute_result"
    }
   ],
   "source": [
    "import re\n",
    "\n",
    "chat1 = \"banik: Hello, I am having an issue with my order # 412889912'\"\n",
    "\n",
    "pattern = r'order[^\\d]*(\\d*)'\n",
    "matches = re.findall(pattern, chat1)\n",
    "matches"
   ]
  },
  {
   "cell_type": "code",
   "execution_count": 13,
   "id": "0d5c2fa7-e908-41f4-89d8-21cc1f08cc00",
   "metadata": {},
   "outputs": [
    {
     "data": {
      "text/plain": [
       "['912889952']"
      ]
     },
     "execution_count": 13,
     "metadata": {},
     "output_type": "execute_result"
    }
   ],
   "source": [
    "chat2='Ani: I have a problem with my order number 912889952'\n",
    "pattern = r'order[^\\d]*(\\d*)'\n",
    "matches = re.findall(pattern, chat2)\n",
    "matches"
   ]
  },
  {
   "cell_type": "code",
   "execution_count": 15,
   "id": "a6f2000c-1ec7-42cd-b61b-f4274761986d",
   "metadata": {},
   "outputs": [
    {
     "data": {
      "text/plain": [
       "['412889912']"
      ]
     },
     "execution_count": 15,
     "metadata": {},
     "output_type": "execute_result"
    }
   ],
   "source": [
    "chat3='Sam: My order 412889912 is having an issue, I was charged 300$ when online it says 280$'\n",
    "pattern = r'order[^\\d]*(\\d*)'\n",
    "matches = re.findall(pattern, chat3)\n",
    "matches"
   ]
  },
  {
   "cell_type": "code",
   "execution_count": 17,
   "id": "ff16bdcd-2c40-42d3-95fb-3b6430f854e0",
   "metadata": {},
   "outputs": [],
   "source": [
    "def get_pattern_match(pattern, text):\n",
    "    matches = re.findall(pattern, text)\n",
    "    if matches:\n",
    "        return matches[0]"
   ]
  },
  {
   "cell_type": "code",
   "execution_count": 21,
   "id": "47f216e1-70ef-4705-82dc-e81429c169a0",
   "metadata": {},
   "outputs": [
    {
     "data": {
      "text/plain": [
       "'412889912'"
      ]
     },
     "execution_count": 21,
     "metadata": {},
     "output_type": "execute_result"
    }
   ],
   "source": [
    "get_pattern_match(r'order[^\\d]*(\\d*)', chat1)"
   ]
  },
  {
   "cell_type": "markdown",
   "id": "04ac7ac5-500a-409b-a44e-ee401c12964b",
   "metadata": {},
   "source": [
    "### Retrieve email id and phone"
   ]
  },
  {
   "cell_type": "code",
   "execution_count": null,
   "id": "1e79b1cb-1866-4355-9e2f-384d07432fb0",
   "metadata": {},
   "outputs": [],
   "source": []
  }
 ],
 "metadata": {
  "kernelspec": {
   "display_name": "Python 3 (ipykernel)",
   "language": "python",
   "name": "python3"
  },
  "language_info": {
   "codemirror_mode": {
    "name": "ipython",
    "version": 3
   },
   "file_extension": ".py",
   "mimetype": "text/x-python",
   "name": "python",
   "nbconvert_exporter": "python",
   "pygments_lexer": "ipython3",
   "version": "3.12.4"
  }
 },
 "nbformat": 4,
 "nbformat_minor": 5
}
