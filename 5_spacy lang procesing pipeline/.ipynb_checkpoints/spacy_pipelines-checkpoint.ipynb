{
 "cells": [
  {
   "cell_type": "markdown",
   "id": "ee97885d-4b0d-4039-a6d0-9e1d798c60fd",
   "metadata": {},
   "source": [
    "### Spacy Language Processing Pipelines Tutorial"
   ]
  },
  {
   "cell_type": "code",
   "execution_count": 2,
   "id": "17c66fa0-1111-46e1-8a8c-90045631c60b",
   "metadata": {},
   "outputs": [
    {
     "name": "stdout",
     "output_type": "stream",
     "text": [
      "Captain\n",
      "america\n",
      "ate\n",
      "100\n",
      "$\n",
      "of\n",
      "samosa\n",
      ".\n",
      "Then\n",
      "he\n",
      "said\n",
      "I\n",
      "can\n",
      "do\n",
      "this\n",
      "all\n",
      "day\n",
      ".\n"
     ]
    }
   ],
   "source": [
    "import spacy\n",
    "\n",
    "nlp = spacy.blank(\"en\")\n",
    "\n",
    "doc = nlp(\"Captain america ate 100$ of samosa. Then he said I can do this all day.\")\n",
    "\n",
    "for token in doc:\n",
    "    print(token)"
   ]
  },
  {
   "cell_type": "code",
   "execution_count": 4,
   "id": "75697267-176b-4ac6-8bb8-0b2f846e37ab",
   "metadata": {},
   "outputs": [
    {
     "data": {
      "text/plain": [
       "[]"
      ]
     },
     "execution_count": 4,
     "metadata": {},
     "output_type": "execute_result"
    }
   ],
   "source": [
    "nlp.pipe_names"
   ]
  },
  {
   "cell_type": "code",
   "execution_count": 6,
   "id": "d8ea1c8c-9f5e-4271-861c-c2e1acf8fa89",
   "metadata": {},
   "outputs": [
    {
     "data": {
      "text/plain": [
       "['tok2vec', 'tagger', 'parser', 'attribute_ruler', 'lemmatizer', 'ner']"
      ]
     },
     "execution_count": 6,
     "metadata": {},
     "output_type": "execute_result"
    }
   ],
   "source": [
    "nlp = spacy.load(\"en_core_web_sm\")\n",
    "nlp.pipe_names"
   ]
  },
  {
   "cell_type": "code",
   "execution_count": 8,
   "id": "fa927981-49a4-40fa-ad8e-a31f80bd5284",
   "metadata": {},
   "outputs": [
    {
     "data": {
      "text/plain": [
       "[('tok2vec', <spacy.pipeline.tok2vec.Tok2Vec at 0x263c8261190>),\n",
       " ('tagger', <spacy.pipeline.tagger.Tagger at 0x263c820adb0>),\n",
       " ('parser', <spacy.pipeline.dep_parser.DependencyParser at 0x263cb115af0>),\n",
       " ('attribute_ruler',\n",
       "  <spacy.pipeline.attributeruler.AttributeRuler at 0x263cb4e6b50>),\n",
       " ('lemmatizer', <spacy.lang.en.lemmatizer.EnglishLemmatizer at 0x263cb4f4890>),\n",
       " ('ner', <spacy.pipeline.ner.EntityRecognizer at 0x263cb1161f0>)]"
      ]
     },
     "execution_count": 8,
     "metadata": {},
     "output_type": "execute_result"
    }
   ],
   "source": [
    "nlp.pipeline"
   ]
  },
  {
   "cell_type": "code",
   "execution_count": 16,
   "id": "c78b6800-821d-46ad-8ad1-5b052359ecff",
   "metadata": {},
   "outputs": [
    {
     "name": "stdout",
     "output_type": "stream",
     "text": [
      "Captain | proper noun | Captain\n",
      "america | proper noun | america\n",
      "ate | verb | eat\n",
      "100 | numeral | 100\n",
      "$ | numeral | $\n",
      "of | adposition | of\n",
      "samosa | proper noun | samosa\n",
      ". | punctuation | .\n",
      "Then | adverb | then\n",
      "he | pronoun | he\n",
      "said | verb | say\n",
      "I | pronoun | I\n",
      "can | auxiliary | can\n",
      "do | verb | do\n",
      "this | pronoun | this\n",
      "all | determiner | all\n",
      "day | noun | day\n",
      ". | punctuation | .\n"
     ]
    }
   ],
   "source": [
    "doc = nlp(\"Captain america ate 100$ of samosa. Then he said I can do this all day.\")\n",
    "\n",
    "for token in doc:\n",
    "    print(token, \"|\", spacy.explain(token.pos_), \"|\", token.lemma_)"
   ]
  },
  {
   "cell_type": "markdown",
   "id": "bd1a61cc-1461-4dc5-9c3d-8819c912d06b",
   "metadata": {},
   "source": [
    "### Named Entity Recognition"
   ]
  },
  {
   "cell_type": "code",
   "execution_count": 21,
   "id": "92a6e965-8f16-4345-869a-6e97cf7da7f3",
   "metadata": {},
   "outputs": [
    {
     "name": "stdout",
     "output_type": "stream",
     "text": [
      "Tesla Inc ORG\n",
      "$45 billion MONEY\n"
     ]
    }
   ],
   "source": [
    "doc = nlp(\"Tesla Inc is going to acquire twitter for $45 billion\")\n",
    "\n",
    "for ent in doc.ents:\n",
    "    print(ent.text, ent.label_)"
   ]
  },
  {
   "cell_type": "code",
   "execution_count": null,
   "id": "fb0cfafe-2f6e-4e8c-85cc-9833f28dc51f",
   "metadata": {},
   "outputs": [],
   "source": []
  },
  {
   "cell_type": "code",
   "execution_count": null,
   "id": "e1650d2c-e4b2-4fee-9fc7-58ac3ee88e5c",
   "metadata": {},
   "outputs": [],
   "source": []
  }
 ],
 "metadata": {
  "kernelspec": {
   "display_name": "Python 3 (ipykernel)",
   "language": "python",
   "name": "python3"
  },
  "language_info": {
   "codemirror_mode": {
    "name": "ipython",
    "version": 3
   },
   "file_extension": ".py",
   "mimetype": "text/x-python",
   "name": "python",
   "nbconvert_exporter": "python",
   "pygments_lexer": "ipython3",
   "version": "3.12.4"
  }
 },
 "nbformat": 4,
 "nbformat_minor": 5
}
