{
 "cells": [
  {
   "cell_type": "code",
   "execution_count": 1,
   "id": "8c3771dc-98bd-4d51-aab7-e98e09729194",
   "metadata": {},
   "outputs": [
    {
     "name": "stdout",
     "output_type": "stream",
     "text": [
      "Collecting spacy\n",
      "  Downloading spacy-3.8.4-cp312-cp312-win_amd64.whl.metadata (27 kB)\n",
      "Collecting spacy-legacy<3.1.0,>=3.0.11 (from spacy)\n",
      "  Downloading spacy_legacy-3.0.12-py2.py3-none-any.whl.metadata (2.8 kB)\n",
      "Collecting spacy-loggers<2.0.0,>=1.0.0 (from spacy)\n",
      "  Downloading spacy_loggers-1.0.5-py3-none-any.whl.metadata (23 kB)\n",
      "Collecting murmurhash<1.1.0,>=0.28.0 (from spacy)\n",
      "  Downloading murmurhash-1.0.12-cp312-cp312-win_amd64.whl.metadata (2.2 kB)\n",
      "Collecting cymem<2.1.0,>=2.0.2 (from spacy)\n",
      "  Downloading cymem-2.0.11-cp312-cp312-win_amd64.whl.metadata (8.8 kB)\n",
      "Collecting preshed<3.1.0,>=3.0.2 (from spacy)\n",
      "  Downloading preshed-3.0.9-cp312-cp312-win_amd64.whl.metadata (2.2 kB)\n",
      "Collecting thinc<8.4.0,>=8.3.4 (from spacy)\n",
      "  Downloading thinc-8.3.4-cp312-cp312-win_amd64.whl.metadata (15 kB)\n",
      "Collecting wasabi<1.2.0,>=0.9.1 (from spacy)\n",
      "  Downloading wasabi-1.1.3-py3-none-any.whl.metadata (28 kB)\n",
      "Collecting srsly<3.0.0,>=2.4.3 (from spacy)\n",
      "  Downloading srsly-2.5.1-cp312-cp312-win_amd64.whl.metadata (20 kB)\n",
      "Collecting catalogue<2.1.0,>=2.0.6 (from spacy)\n",
      "  Downloading catalogue-2.0.10-py3-none-any.whl.metadata (14 kB)\n",
      "Collecting weasel<0.5.0,>=0.1.0 (from spacy)\n",
      "  Downloading weasel-0.4.1-py3-none-any.whl.metadata (4.6 kB)\n",
      "Requirement already satisfied: typer<1.0.0,>=0.3.0 in c:\\users\\warden\\appdata\\roaming\\python\\python312\\site-packages (from spacy) (0.15.1)\n",
      "Requirement already satisfied: tqdm<5.0.0,>=4.38.0 in c:\\users\\warden\\appdata\\roaming\\python\\python312\\site-packages (from spacy) (4.66.5)\n",
      "Requirement already satisfied: numpy>=1.19.0 in c:\\users\\warden\\appdata\\roaming\\python\\python312\\site-packages (from spacy) (2.1.2)\n",
      "Requirement already satisfied: requests<3.0.0,>=2.13.0 in c:\\users\\warden\\appdata\\roaming\\python\\python312\\site-packages (from spacy) (2.32.3)\n",
      "Requirement already satisfied: pydantic!=1.8,!=1.8.1,<3.0.0,>=1.7.4 in c:\\users\\warden\\appdata\\roaming\\python\\python312\\site-packages (from spacy) (2.10.6)\n",
      "Requirement already satisfied: jinja2 in c:\\users\\warden\\appdata\\roaming\\python\\python312\\site-packages (from spacy) (3.1.4)\n",
      "Requirement already satisfied: setuptools in c:\\users\\warden\\appdata\\roaming\\python\\python312\\site-packages (from spacy) (75.1.0)\n",
      "Requirement already satisfied: packaging>=20.0 in c:\\users\\warden\\appdata\\roaming\\python\\python312\\site-packages (from spacy) (24.1)\n",
      "Collecting langcodes<4.0.0,>=3.2.0 (from spacy)\n",
      "  Downloading langcodes-3.5.0-py3-none-any.whl.metadata (29 kB)\n",
      "Collecting language-data>=1.2 (from langcodes<4.0.0,>=3.2.0->spacy)\n",
      "  Downloading language_data-1.3.0-py3-none-any.whl.metadata (4.3 kB)\n",
      "Requirement already satisfied: annotated-types>=0.6.0 in c:\\users\\warden\\appdata\\roaming\\python\\python312\\site-packages (from pydantic!=1.8,!=1.8.1,<3.0.0,>=1.7.4->spacy) (0.7.0)\n",
      "Requirement already satisfied: pydantic-core==2.27.2 in c:\\users\\warden\\appdata\\roaming\\python\\python312\\site-packages (from pydantic!=1.8,!=1.8.1,<3.0.0,>=1.7.4->spacy) (2.27.2)\n",
      "Requirement already satisfied: typing-extensions>=4.12.2 in c:\\users\\warden\\appdata\\roaming\\python\\python312\\site-packages (from pydantic!=1.8,!=1.8.1,<3.0.0,>=1.7.4->spacy) (4.12.2)\n",
      "Requirement already satisfied: charset-normalizer<4,>=2 in c:\\users\\warden\\appdata\\roaming\\python\\python312\\site-packages (from requests<3.0.0,>=2.13.0->spacy) (3.3.2)\n",
      "Requirement already satisfied: idna<4,>=2.5 in c:\\users\\warden\\appdata\\roaming\\python\\python312\\site-packages (from requests<3.0.0,>=2.13.0->spacy) (3.10)\n",
      "Requirement already satisfied: urllib3<3,>=1.21.1 in c:\\users\\warden\\appdata\\roaming\\python\\python312\\site-packages (from requests<3.0.0,>=2.13.0->spacy) (2.2.3)\n",
      "Requirement already satisfied: certifi>=2017.4.17 in c:\\users\\warden\\appdata\\roaming\\python\\python312\\site-packages (from requests<3.0.0,>=2.13.0->spacy) (2024.8.30)\n",
      "Collecting blis<1.3.0,>=1.2.0 (from thinc<8.4.0,>=8.3.4->spacy)\n",
      "  Downloading blis-1.2.0-cp312-cp312-win_amd64.whl.metadata (7.9 kB)\n",
      "Collecting confection<1.0.0,>=0.0.1 (from thinc<8.4.0,>=8.3.4->spacy)\n",
      "  Downloading confection-0.1.5-py3-none-any.whl.metadata (19 kB)\n",
      "Requirement already satisfied: colorama in c:\\users\\warden\\appdata\\roaming\\python\\python312\\site-packages (from tqdm<5.0.0,>=4.38.0->spacy) (0.4.6)\n",
      "Requirement already satisfied: click>=8.0.0 in c:\\users\\warden\\appdata\\roaming\\python\\python312\\site-packages (from typer<1.0.0,>=0.3.0->spacy) (8.1.8)\n",
      "Requirement already satisfied: shellingham>=1.3.0 in c:\\users\\warden\\appdata\\roaming\\python\\python312\\site-packages (from typer<1.0.0,>=0.3.0->spacy) (1.5.4)\n",
      "Requirement already satisfied: rich>=10.11.0 in c:\\users\\warden\\appdata\\roaming\\python\\python312\\site-packages (from typer<1.0.0,>=0.3.0->spacy) (13.9.2)\n",
      "Collecting cloudpathlib<1.0.0,>=0.7.0 (from weasel<0.5.0,>=0.1.0->spacy)\n",
      "  Downloading cloudpathlib-0.20.0-py3-none-any.whl.metadata (14 kB)\n",
      "Requirement already satisfied: smart-open<8.0.0,>=5.2.1 in c:\\users\\warden\\anaconda3\\lib\\site-packages (from weasel<0.5.0,>=0.1.0->spacy) (5.2.1)\n",
      "Requirement already satisfied: MarkupSafe>=2.0 in c:\\users\\warden\\appdata\\roaming\\python\\python312\\site-packages (from jinja2->spacy) (2.1.5)\n",
      "Collecting marisa-trie>=1.1.0 (from language-data>=1.2->langcodes<4.0.0,>=3.2.0->spacy)\n",
      "  Downloading marisa_trie-1.2.1-cp312-cp312-win_amd64.whl.metadata (9.3 kB)\n",
      "Requirement already satisfied: markdown-it-py>=2.2.0 in c:\\users\\warden\\appdata\\roaming\\python\\python312\\site-packages (from rich>=10.11.0->typer<1.0.0,>=0.3.0->spacy) (3.0.0)\n",
      "Requirement already satisfied: pygments<3.0.0,>=2.13.0 in c:\\users\\warden\\appdata\\roaming\\python\\python312\\site-packages (from rich>=10.11.0->typer<1.0.0,>=0.3.0->spacy) (2.18.0)\n",
      "Requirement already satisfied: mdurl~=0.1 in c:\\users\\warden\\appdata\\roaming\\python\\python312\\site-packages (from markdown-it-py>=2.2.0->rich>=10.11.0->typer<1.0.0,>=0.3.0->spacy) (0.1.2)\n",
      "Downloading spacy-3.8.4-cp312-cp312-win_amd64.whl (11.8 MB)\n",
      "   ---------------------------------------- 0.0/11.8 MB ? eta -:--:--\n",
      "   ---------------------------------------- 0.0/11.8 MB ? eta -:--:--\n",
      "    --------------------------------------- 0.3/11.8 MB ? eta -:--:--\n",
      "   - -------------------------------------- 0.5/11.8 MB 1.7 MB/s eta 0:00:07\n",
      "   --- ------------------------------------ 1.0/11.8 MB 1.8 MB/s eta 0:00:06\n",
      "   ---- ----------------------------------- 1.3/11.8 MB 1.8 MB/s eta 0:00:06\n",
      "   ----- ---------------------------------- 1.6/11.8 MB 1.8 MB/s eta 0:00:06\n",
      "   ------- -------------------------------- 2.1/11.8 MB 1.8 MB/s eta 0:00:06\n",
      "   -------- ------------------------------- 2.4/11.8 MB 1.8 MB/s eta 0:00:06\n",
      "   --------- ------------------------------ 2.9/11.8 MB 1.8 MB/s eta 0:00:05\n",
      "   ---------- ----------------------------- 3.1/11.8 MB 1.8 MB/s eta 0:00:05\n",
      "   ------------ --------------------------- 3.7/11.8 MB 1.8 MB/s eta 0:00:05\n",
      "   -------------- ------------------------- 4.2/11.8 MB 1.9 MB/s eta 0:00:05\n",
      "   --------------- ------------------------ 4.5/11.8 MB 1.9 MB/s eta 0:00:04\n",
      "   ---------------- ----------------------- 5.0/11.8 MB 1.9 MB/s eta 0:00:04\n",
      "   ----------------- ---------------------- 5.2/11.8 MB 1.9 MB/s eta 0:00:04\n",
      "   ------------------- -------------------- 5.8/11.8 MB 1.9 MB/s eta 0:00:04\n",
      "   -------------------- ------------------- 6.0/11.8 MB 1.9 MB/s eta 0:00:04\n",
      "   ---------------------- ----------------- 6.6/11.8 MB 1.9 MB/s eta 0:00:03\n",
      "   ----------------------- ---------------- 6.8/11.8 MB 1.9 MB/s eta 0:00:03\n",
      "   ------------------------ --------------- 7.3/11.8 MB 1.9 MB/s eta 0:00:03\n",
      "   ------------------------- -------------- 7.6/11.8 MB 1.9 MB/s eta 0:00:03\n",
      "   --------------------------- ------------ 8.1/11.8 MB 1.9 MB/s eta 0:00:02\n",
      "   ---------------------------- ----------- 8.4/11.8 MB 1.9 MB/s eta 0:00:02\n",
      "   ------------------------------ --------- 8.9/11.8 MB 1.9 MB/s eta 0:00:02\n",
      "   ------------------------------- -------- 9.2/11.8 MB 1.9 MB/s eta 0:00:02\n",
      "   -------------------------------- ------- 9.7/11.8 MB 1.9 MB/s eta 0:00:02\n",
      "   --------------------------------- ------ 10.0/11.8 MB 1.9 MB/s eta 0:00:01\n",
      "   ----------------------------------- ---- 10.5/11.8 MB 1.9 MB/s eta 0:00:01\n",
      "   ------------------------------------ --- 10.7/11.8 MB 1.9 MB/s eta 0:00:01\n",
      "   -------------------------------------- - 11.3/11.8 MB 1.9 MB/s eta 0:00:01\n",
      "   ---------------------------------------  11.5/11.8 MB 1.9 MB/s eta 0:00:01\n",
      "   ---------------------------------------- 11.8/11.8 MB 1.9 MB/s eta 0:00:00\n",
      "Downloading catalogue-2.0.10-py3-none-any.whl (17 kB)\n",
      "Downloading cymem-2.0.11-cp312-cp312-win_amd64.whl (39 kB)\n",
      "Downloading langcodes-3.5.0-py3-none-any.whl (182 kB)\n",
      "Downloading murmurhash-1.0.12-cp312-cp312-win_amd64.whl (25 kB)\n",
      "Downloading preshed-3.0.9-cp312-cp312-win_amd64.whl (122 kB)\n",
      "Downloading spacy_legacy-3.0.12-py2.py3-none-any.whl (29 kB)\n",
      "Downloading spacy_loggers-1.0.5-py3-none-any.whl (22 kB)\n",
      "Downloading srsly-2.5.1-cp312-cp312-win_amd64.whl (632 kB)\n",
      "   ---------------------------------------- 0.0/632.6 kB ? eta -:--:--\n",
      "   ---------------- ----------------------- 262.1/632.6 kB ? eta -:--:--\n",
      "   ---------------------------------------- 632.6/632.6 kB 2.0 MB/s eta 0:00:00\n",
      "Downloading thinc-8.3.4-cp312-cp312-win_amd64.whl (1.5 MB)\n",
      "   ---------------------------------------- 0.0/1.5 MB ? eta -:--:--\n",
      "   ------- -------------------------------- 0.3/1.5 MB ? eta -:--:--\n",
      "   -------------- ------------------------- 0.5/1.5 MB 1.9 MB/s eta 0:00:01\n",
      "   ---------------------------- ----------- 1.0/1.5 MB 1.9 MB/s eta 0:00:01\n",
      "   ---------------------------------------- 1.5/1.5 MB 1.9 MB/s eta 0:00:00\n",
      "Downloading wasabi-1.1.3-py3-none-any.whl (27 kB)\n",
      "Downloading weasel-0.4.1-py3-none-any.whl (50 kB)\n",
      "Downloading blis-1.2.0-cp312-cp312-win_amd64.whl (6.3 MB)\n",
      "   ---------------------------------------- 0.0/6.3 MB ? eta -:--:--\n",
      "   - -------------------------------------- 0.3/6.3 MB ? eta -:--:--\n",
      "   ----- ---------------------------------- 0.8/6.3 MB 2.0 MB/s eta 0:00:03\n",
      "   ------ --------------------------------- 1.0/6.3 MB 1.9 MB/s eta 0:00:03\n",
      "   ---------- ----------------------------- 1.6/6.3 MB 1.9 MB/s eta 0:00:03\n",
      "   ----------- ---------------------------- 1.8/6.3 MB 1.9 MB/s eta 0:00:03\n",
      "   --------------- ------------------------ 2.4/6.3 MB 1.9 MB/s eta 0:00:03\n",
      "   ---------------- ----------------------- 2.6/6.3 MB 1.9 MB/s eta 0:00:02\n",
      "   -------------------- ------------------- 3.1/6.3 MB 1.9 MB/s eta 0:00:02\n",
      "   --------------------- ------------------ 3.4/6.3 MB 1.9 MB/s eta 0:00:02\n",
      "   ------------------------- -------------- 3.9/6.3 MB 1.9 MB/s eta 0:00:02\n",
      "   -------------------------- ------------- 4.2/6.3 MB 1.9 MB/s eta 0:00:02\n",
      "   ------------------------------ --------- 4.7/6.3 MB 1.9 MB/s eta 0:00:01\n",
      "   ------------------------------- -------- 5.0/6.3 MB 1.9 MB/s eta 0:00:01\n",
      "   ----------------------------------- ---- 5.5/6.3 MB 1.9 MB/s eta 0:00:01\n",
      "   ------------------------------------ --- 5.8/6.3 MB 1.9 MB/s eta 0:00:01\n",
      "   ---------------------------------------- 6.3/6.3 MB 1.9 MB/s eta 0:00:00\n",
      "Downloading cloudpathlib-0.20.0-py3-none-any.whl (52 kB)\n",
      "Downloading confection-0.1.5-py3-none-any.whl (35 kB)\n",
      "Downloading language_data-1.3.0-py3-none-any.whl (5.4 MB)\n",
      "   ---------------------------------------- 0.0/5.4 MB ? eta -:--:--\n",
      "   - -------------------------------------- 0.3/5.4 MB ? eta -:--:--\n",
      "   ----- ---------------------------------- 0.8/5.4 MB 2.0 MB/s eta 0:00:03\n",
      "   ------- -------------------------------- 1.0/5.4 MB 1.9 MB/s eta 0:00:03\n",
      "   ----------- ---------------------------- 1.6/5.4 MB 1.9 MB/s eta 0:00:03\n",
      "   ------------- -------------------------- 1.8/5.4 MB 1.9 MB/s eta 0:00:02\n",
      "   ----------------- ---------------------- 2.4/5.4 MB 1.9 MB/s eta 0:00:02\n",
      "   ------------------- -------------------- 2.6/5.4 MB 1.9 MB/s eta 0:00:02\n",
      "   ----------------------- ---------------- 3.1/5.4 MB 1.9 MB/s eta 0:00:02\n",
      "   ------------------------- -------------- 3.4/5.4 MB 1.9 MB/s eta 0:00:02\n",
      "   ----------------------------- ---------- 3.9/5.4 MB 1.9 MB/s eta 0:00:01\n",
      "   --------------------------------- ------ 4.5/5.4 MB 1.9 MB/s eta 0:00:01\n",
      "   ----------------------------------- ---- 4.7/5.4 MB 1.9 MB/s eta 0:00:01\n",
      "   -------------------------------------- - 5.2/5.4 MB 1.9 MB/s eta 0:00:01\n",
      "   ---------------------------------------- 5.4/5.4 MB 1.9 MB/s eta 0:00:00\n",
      "Downloading marisa_trie-1.2.1-cp312-cp312-win_amd64.whl (150 kB)\n",
      "Installing collected packages: cymem, wasabi, spacy-loggers, spacy-legacy, murmurhash, marisa-trie, cloudpathlib, catalogue, blis, srsly, preshed, language-data, langcodes, confection, weasel, thinc, spacy\n",
      "Successfully installed blis-1.2.0 catalogue-2.0.10 cloudpathlib-0.20.0 confection-0.1.5 cymem-2.0.11 langcodes-3.5.0 language-data-1.3.0 marisa-trie-1.2.1 murmurhash-1.0.12 preshed-3.0.9 spacy-3.8.4 spacy-legacy-3.0.12 spacy-loggers-1.0.5 srsly-2.5.1 thinc-8.3.4 wasabi-1.1.3 weasel-0.4.1\n",
      "Note: you may need to restart the kernel to use updated packages.\n"
     ]
    },
    {
     "name": "stderr",
     "output_type": "stream",
     "text": [
      "\n",
      "[notice] A new release of pip is available: 24.3.1 -> 25.0\n",
      "[notice] To update, run: C:\\Users\\warden\\Anaconda3\\python.exe -m pip install --upgrade pip\n"
     ]
    }
   ],
   "source": [
    "pip install spacy"
   ]
  },
  {
   "cell_type": "code",
   "execution_count": 6,
   "id": "2235fd1b-527f-42e4-8f31-e9d3eea5deef",
   "metadata": {},
   "outputs": [
    {
     "ename": "SyntaxError",
     "evalue": "invalid syntax (1553972540.py, line 1)",
     "output_type": "error",
     "traceback": [
      "\u001b[1;36m  Cell \u001b[1;32mIn[6], line 1\u001b[1;36m\u001b[0m\n\u001b[1;33m    python -m spacy download en_core_web_sm\u001b[0m\n\u001b[1;37m              ^\u001b[0m\n\u001b[1;31mSyntaxError\u001b[0m\u001b[1;31m:\u001b[0m invalid syntax\n"
     ]
    }
   ],
   "source": [
    "python -m spacy download en_core_web_sm\n"
   ]
  },
  {
   "cell_type": "code",
   "execution_count": null,
   "id": "f8711f08-9f9a-43a3-946d-d88e1b55bae9",
   "metadata": {},
   "outputs": [],
   "source": [
    "pip install nltk"
   ]
  },
  {
   "cell_type": "markdown",
   "id": "b28eb425-dcc7-40dc-beab-cea2dd734030",
   "metadata": {},
   "source": [
    "### Sentence & Word Tokenization In Spacy"
   ]
  },
  {
   "cell_type": "code",
   "execution_count": 8,
   "id": "b73c957e-4fd4-43ef-9e50-ef57a783e869",
   "metadata": {},
   "outputs": [],
   "source": [
    "import spacy"
   ]
  },
  {
   "cell_type": "code",
   "execution_count": 10,
   "id": "a3e15224-153e-4349-9028-0209aa7de2cc",
   "metadata": {},
   "outputs": [],
   "source": [
    "nlp = spacy.load(\"en_core_web_sm\")\n",
    "doc = nlp(\"Dr. Strange loves pav bhaji of mumbai. Hulk loves chat of delhi\")"
   ]
  },
  {
   "cell_type": "code",
   "execution_count": 12,
   "id": "2ede4752-5075-4ede-899c-f47965fe76af",
   "metadata": {},
   "outputs": [
    {
     "name": "stdout",
     "output_type": "stream",
     "text": [
      "Dr. Strange loves pav bhaji of mumbai.\n",
      "Hulk loves chat of delhi\n"
     ]
    }
   ],
   "source": [
    "for sentence in doc.sents:\n",
    "    print(sentence)"
   ]
  },
  {
   "cell_type": "code",
   "execution_count": 14,
   "id": "1c3c6743-1d77-48fa-b46b-2a4c9930b590",
   "metadata": {},
   "outputs": [
    {
     "name": "stdout",
     "output_type": "stream",
     "text": [
      "Dr.\n",
      "Strange\n",
      "loves\n",
      "pav\n",
      "bhaji\n",
      "of\n",
      "mumbai\n",
      ".\n",
      "Hulk\n",
      "loves\n",
      "chat\n",
      "of\n",
      "delhi\n"
     ]
    }
   ],
   "source": [
    "for sentence in doc.sents:\n",
    "    for word in sentence:\n",
    "        print(word)"
   ]
  },
  {
   "cell_type": "markdown",
   "id": "ed1d8c41-749b-462e-b683-55b97d930bc5",
   "metadata": {},
   "source": [
    "### Sentence & Word Tokenization In NLTK"
   ]
  },
  {
   "cell_type": "code",
   "execution_count": 21,
   "id": "6c7f90f8-6b00-467c-b170-a5d1a902c005",
   "metadata": {},
   "outputs": [
    {
     "name": "stderr",
     "output_type": "stream",
     "text": [
      "[nltk_data] Downloading package punkt_tab to\n",
      "[nltk_data]     C:\\Users\\warden\\AppData\\Roaming\\nltk_data...\n",
      "[nltk_data]   Unzipping tokenizers\\punkt_tab.zip.\n"
     ]
    },
    {
     "data": {
      "text/plain": [
       "True"
      ]
     },
     "execution_count": 21,
     "metadata": {},
     "output_type": "execute_result"
    }
   ],
   "source": [
    "from nltk.tokenize import sent_tokenize\n",
    "import nltk\n",
    "nltk.download('punkt_tab')"
   ]
  },
  {
   "cell_type": "code",
   "execution_count": 23,
   "id": "9f652eb5-dcb4-4c74-973f-fca670e9480f",
   "metadata": {},
   "outputs": [
    {
     "data": {
      "text/plain": [
       "['Dr.', 'Strange loves pav bhaji of mumbai.', 'Hulk loves chat of delhi']"
      ]
     },
     "execution_count": 23,
     "metadata": {},
     "output_type": "execute_result"
    }
   ],
   "source": [
    "sent_tokenize(\"Dr. Strange loves pav bhaji of mumbai. Hulk loves chat of delhi\")"
   ]
  },
  {
   "cell_type": "code",
   "execution_count": 25,
   "id": "2c9124e0-d5d5-4080-83f3-042af2f1ea2a",
   "metadata": {},
   "outputs": [],
   "source": [
    "from nltk.tokenize import word_tokenize"
   ]
  },
  {
   "cell_type": "code",
   "execution_count": 27,
   "id": "1ff68e0c-e830-427a-be97-dde94d7e1c32",
   "metadata": {},
   "outputs": [
    {
     "data": {
      "text/plain": [
       "['Dr',\n",
       " '.',\n",
       " 'Strange',\n",
       " 'loves',\n",
       " 'pav',\n",
       " 'bhaji',\n",
       " 'of',\n",
       " 'mumbai',\n",
       " '.',\n",
       " 'Hulk',\n",
       " 'loves',\n",
       " 'chat',\n",
       " 'of',\n",
       " 'delhi']"
      ]
     },
     "execution_count": 27,
     "metadata": {},
     "output_type": "execute_result"
    }
   ],
   "source": [
    "word_tokenize(\"Dr. Strange loves pav bhaji of mumbai. Hulk loves chat of delhi\")"
   ]
  },
  {
   "cell_type": "markdown",
   "id": "0cdc63f6-055a-484a-b5a7-7413e2ab2748",
   "metadata": {},
   "source": [
    "### Difference Between NLTK and spaCy\n",
    "NLTK (Natural Language Toolkit) and spaCy are two popular libraries for Natural Language Processing (NLP), but they have different goals, strengths, and use cases.\n",
    "\n",
    "1. Purpose & Philosophy\n",
    "NLTK: Designed for research and teaching in NLP. It provides a broad collection of NLP tools, including tokenization, stemming, parsing, and classification. However, it requires more manual work for processing text.\n",
    "spaCy: Built for production-ready NLP applications. It is optimized for speed, efficiency, and ease of use, making it ideal for building real-world applications like chatbots and text classification systems.\n",
    "2. Ease of Use\n",
    "NLTK: Requires more effort to implement basic NLP tasks because it provides lower-level components. You often need to manually build pipelines.\n",
    "spaCy: Provides a complete NLP pipeline with pre-trained models and built-in functionalities, making it more user-friendly.\n",
    "3. Speed & Performance\n",
    "NLTK: Slower because it is written in Python and is not optimized for large-scale tasks.\n",
    "spaCy: Much faster because it is written in Cython (a mix of C and Python), making it efficient for processing large texts.\n",
    "4. Pre-trained Models\n",
    "NLTK: Does not include pre-trained deep learning models. You have to train models separately.\n",
    "spaCy: Comes with pre-trained models for Named Entity Recognition (NER), Part-of-Speech (POS) tagging, dependency parsing, and text classification.\n",
    "5. Tokenization\n",
    "NLTK: Uses rule-based tokenization, which can sometimes be inconsistent.\n",
    "spaCy: Uses a more robust tokenizer that is faster and more accurate.\n",
    "6. Named Entity Recognition (NER)\n",
    "NLTK: Requires external tools (e.g., Stanford NER) or manual implementation.\n",
    "spaCy: Has built-in state-of-the-art NER models that are ready to use.\n",
    "7. Use Cases\n",
    "NLTK: Best suited for academic research, experimentation, and learning NLP concepts.\n",
    "spaCy: Ideal for real-world NLP applications like chatbots, text analytics, and enterprise-level NLP solutions.\n"
   ]
  },
  {
   "cell_type": "code",
   "execution_count": null,
   "id": "cd5bd9e5-7f9b-44fe-af03-cafc83783699",
   "metadata": {},
   "outputs": [],
   "source": []
  }
 ],
 "metadata": {
  "kernelspec": {
   "display_name": "Python 3 (ipykernel)",
   "language": "python",
   "name": "python3"
  },
  "language_info": {
   "codemirror_mode": {
    "name": "ipython",
    "version": 3
   },
   "file_extension": ".py",
   "mimetype": "text/x-python",
   "name": "python",
   "nbconvert_exporter": "python",
   "pygments_lexer": "ipython3",
   "version": "3.12.4"
  }
 },
 "nbformat": 4,
 "nbformat_minor": 5
}
