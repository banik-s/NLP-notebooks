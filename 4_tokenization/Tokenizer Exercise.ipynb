{
 "cells": [
  {
   "cell_type": "markdown",
   "id": "c6550445-9f54-4bcb-a6c8-b1dc575ded3d",
   "metadata": {},
   "source": [
    "### Exercise"
   ]
  },
  {
   "cell_type": "markdown",
   "id": "34c78092-5d1e-4676-a2cb-0631a1fb98e0",
   "metadata": {},
   "source": [
    "### write code to extract url\n",
    "\n",
    "\n",
    "text='''\r\n",
    "Look for data to help you address the question. Governments are good\r\n",
    "sources because data from public research is often freely available. Good\r\n",
    "places to start include http://www.data.gov/, and http://www.science.\r\n",
    "gov/, and in the United Kingdom, http://data.gov.uk/.\r\n",
    "Two of my favorite data sets are the General Social Survey at http://www3.norc.org/gss+website/, \r\n",
    "and the European Social Survey at http://www.europeansocialsurvey.orgtect a url"
   ]
  },
  {
   "cell_type": "code",
   "execution_count": 10,
   "id": "c5f0f4e1-750f-4412-b79f-fccab7034511",
   "metadata": {},
   "outputs": [],
   "source": [
    "text='''\n",
    "Look for data to help you address the question. Governments are good\n",
    "sources because data from public research is often freely available. Good\n",
    "places to start include http://www.data.gov/, and http://www.science.\n",
    "gov/, and in the United Kingdom, http://data.gov.uk/.\n",
    "Two of my favorite data sets are the General Social Survey at http://www3.norc.org/gss+website/, \n",
    "and the European Social Survey at http://www.europeansocialsurvey.org/.\n",
    "'''"
   ]
  },
  {
   "cell_type": "code",
   "execution_count": 16,
   "id": "3df5957b-7203-4d9a-974b-d5e8858c2465",
   "metadata": {},
   "outputs": [],
   "source": [
    "import spacy\n",
    "\n",
    "nlp = spacy.blank(\"en\")"
   ]
  },
  {
   "cell_type": "code",
   "execution_count": null,
   "id": "4cb9819f-9c12-4281-8e71-00ec698b29e0",
   "metadata": {},
   "outputs": [],
   "source": []
  },
  {
   "cell_type": "code",
   "execution_count": 18,
   "id": "82d791a2-4f99-4b24-afcf-529dbd80a2ae",
   "metadata": {},
   "outputs": [
    {
     "data": {
      "text/plain": [
       "['http://www.data.gov/',\n",
       " 'http://www.science',\n",
       " 'http://data.gov.uk/.',\n",
       " 'http://www3.norc.org/gss+website/',\n",
       " 'http://www.europeansocialsurvey.org/.']"
      ]
     },
     "execution_count": 18,
     "metadata": {},
     "output_type": "execute_result"
    }
   ],
   "source": [
    "doc = nlp(text)\n",
    "data_websites = [token.text for token in doc if token.like_url]\n",
    "data_websites"
   ]
  },
  {
   "cell_type": "code",
   "execution_count": null,
   "id": "81b53904-84db-48fe-b903-ec19d3be837e",
   "metadata": {},
   "outputs": [],
   "source": [
    " Extract all money transaction from below sentence along with currency. Output should be,\n",
    "\n",
    "two $\n",
    "\n",
    "500 €\n",
    "\n",
    "transactions = \"Tony gave two $ to Peter, Bruce gave 500 € to Steve\"\n",
    "\n",
    "# TODO: Write code here\n",
    "# Hint: Use token.i for the index of a token and token.is_currency for currency symbol detection"
   ]
  },
  {
   "cell_type": "code",
   "execution_count": 23,
   "id": "86a51d5b-7a7c-4d31-8827-2b1fa0e93868",
   "metadata": {},
   "outputs": [
    {
     "name": "stdout",
     "output_type": "stream",
     "text": [
      "two $\n",
      "500 €\n"
     ]
    }
   ],
   "source": [
    "transactions = \"Tony gave two $ to Peter, Bruce gave 500 € to Steve\"\n",
    "doc = nlp(transactions)\n",
    "\n",
    "for token in doc:\n",
    "    if token.like_num and doc[token.i+1].is_currency:     #token.i return the index of that token\n",
    "        print(token.text, doc[token.i+1].text)"
   ]
  },
  {
   "cell_type": "code",
   "execution_count": null,
   "id": "e5fc0fd4-488a-473c-812e-ed919f8d84c0",
   "metadata": {},
   "outputs": [],
   "source": []
  },
  {
   "cell_type": "code",
   "execution_count": null,
   "id": "1f3afe92-d32d-460f-a8e1-e97017b46514",
   "metadata": {},
   "outputs": [],
   "source": []
  }
 ],
 "metadata": {
  "kernelspec": {
   "display_name": "Python 3 (ipykernel)",
   "language": "python",
   "name": "python3"
  },
  "language_info": {
   "codemirror_mode": {
    "name": "ipython",
    "version": 3
   },
   "file_extension": ".py",
   "mimetype": "text/x-python",
   "name": "python",
   "nbconvert_exporter": "python",
   "pygments_lexer": "ipython3",
   "version": "3.12.4"
  }
 },
 "nbformat": 4,
 "nbformat_minor": 5
}
